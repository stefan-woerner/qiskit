{
 "cells": [
  {
   "cell_type": "markdown",
   "metadata": {},
   "source": [
    "# Quadratically Constrained Quadratic Programs\n",
    "The latest version of this notebook is available on https://github.com/Qiskit/qiskit-iqx-tutorials."
   ]
  },
  {
   "cell_type": "markdown",
   "metadata": {},
   "source": [
    "- Introduce Quadratic Programs\n",
    "    - Mathematical model (incl. constraints) + variable types<br>\n",
    "    https://en.wikipedia.org/wiki/Quadratically_constrained_quadratic_program\n",
    "    - How to build it with docplex (brief example)\n",
    "    - How to build the same with the QuadraticProgram\n",
    "- Introduce Converters <br>(except \"to operator\" and \"to neg. val. oracle\", those should be introduced with the algorithms)\n",
    "    - Integer to Binary Converter\n",
    "    - Penalize Equality Constraints\n",
    "    - ...\n",
    "- Example:\n",
    "    - build a model in docplex with integer variables and constraints, cast to QUBO. \n",
    "    - introduce convenience converter \"to_qubo\"..."
   ]
  }
 ],
 "metadata": {
  "kernelspec": {
   "display_name": "Python 3",
   "language": "python",
   "name": "python3"
  },
  "language_info": {
   "codemirror_mode": {
    "name": "ipython",
    "version": 3
   },
   "file_extension": ".py",
   "mimetype": "text/x-python",
   "name": "python",
   "nbconvert_exporter": "python",
   "pygments_lexer": "ipython3",
   "version": "3.7.4"
  }
 },
 "nbformat": 4,
 "nbformat_minor": 2
}
